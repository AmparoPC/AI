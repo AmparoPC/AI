{
  "nbformat": 4,
  "nbformat_minor": 0,
  "metadata": {
    "accelerator": "GPU",
    "colab": {
      "name": "NLP_Week4_Exercise_Shakespeare_Answer.ipynb",
      "provenance": [],
      "toc_visible": true,
      "include_colab_link": true
    },
    "kernelspec": {
      "display_name": "Python 3",
      "name": "python3"
    }
  },
  "cells": [
    {
      "cell_type": "markdown",
      "metadata": {
        "id": "view-in-github",
        "colab_type": "text"
      },
      "source": [
        "<a href=\"https://colab.research.google.com/github/AmparoPC/TensorflowDeveloperCourse/blob/main/NLP_Week4_Exercise_Shakespeare_Answer.ipynb\" target=\"_parent\"><img src=\"https://colab.research.google.com/assets/colab-badge.svg\" alt=\"Open In Colab\"/></a>"
      ]
    },
    {
      "cell_type": "code",
      "metadata": {
        "id": "zX4Kg8DUTKWO"
      },
      "source": [
        "#@title Licensed under the Apache License, Version 2.0 (the \"License\");\n",
        "# you may not use this file except in compliance with the License.\n",
        "# You may obtain a copy of the License at\n",
        "#\n",
        "# https://www.apache.org/licenses/LICENSE-2.0\n",
        "#\n",
        "# Unless required by applicable law or agreed to in writing, software\n",
        "# distributed under the License is distributed on an \"AS IS\" BASIS,\n",
        "# WITHOUT WARRANTIES OR CONDITIONS OF ANY KIND, either express or implied.\n",
        "# See the License for the specific language governing permissions and\n",
        "# limitations under the License."
      ],
      "execution_count": null,
      "outputs": []
    },
    {
      "cell_type": "code",
      "metadata": {
        "id": "BOwsuGQQY9OL"
      },
      "source": [
        "from tensorflow.keras.preprocessing.sequence import pad_sequences\n",
        "from tensorflow.keras.layers import Embedding, LSTM, Dense, Dropout, Bidirectional\n",
        "from tensorflow.keras.preprocessing.text import Tokenizer\n",
        "from tensorflow.keras.models import Sequential\n",
        "from tensorflow.keras.optimizers import Adam\n",
        "from tensorflow.keras import regularizers\n",
        "import tensorflow.keras.utils as ku \n",
        "import numpy as np "
      ],
      "execution_count": 3,
      "outputs": []
    },
    {
      "cell_type": "code",
      "metadata": {
        "id": "PRnDnCW-Z7qv",
        "outputId": "60be142b-4901-435f-d38f-b8d07c27836d",
        "colab": {
          "base_uri": "https://localhost:8080/"
        }
      },
      "source": [
        "tokenizer = Tokenizer()\n",
        "!wget --no-check-certificate \\\n",
        "    https://storage.googleapis.com/laurencemoroney-blog.appspot.com/sonnets.txt \\\n",
        "    -O /tmp/sonnets.txt\n",
        "data = open('/tmp/sonnets.txt').read()\n",
        "\n",
        "corpus = data.lower().split(\"\\n\")\n",
        "\n",
        "\n",
        "tokenizer.fit_on_texts(corpus)\n",
        "total_words = len(tokenizer.word_index) + 1\n",
        "\n",
        "# create input sequences using list of tokens\n",
        "input_sequences = []\n",
        "for line in corpus:\n",
        "\ttoken_list = tokenizer.texts_to_sequences([line])[0]\n",
        "\tfor i in range(1, len(token_list)):\n",
        "\t\tn_gram_sequence = token_list[:i+1]\n",
        "\t\tinput_sequences.append(n_gram_sequence)\n",
        "\n",
        "\n",
        "# pad sequences \n",
        "max_sequence_len = max([len(x) for x in input_sequences])\n",
        "input_sequences = np.array(pad_sequences(input_sequences, maxlen=max_sequence_len, padding='pre'))\n",
        "\n",
        "# create predictors and label\n",
        "predictors, label = input_sequences[:,:-1],input_sequences[:,-1]\n",
        "\n",
        "label = ku.to_categorical(label, num_classes=total_words)"
      ],
      "execution_count": 4,
      "outputs": [
        {
          "output_type": "stream",
          "text": [
            "--2020-11-09 18:10:39--  https://storage.googleapis.com/laurencemoroney-blog.appspot.com/sonnets.txt\n",
            "Resolving storage.googleapis.com (storage.googleapis.com)... 173.194.203.128, 74.125.20.128, 74.125.197.128, ...\n",
            "Connecting to storage.googleapis.com (storage.googleapis.com)|173.194.203.128|:443... connected.\n",
            "HTTP request sent, awaiting response... 200 OK\n",
            "Length: 93578 (91K) [text/plain]\n",
            "Saving to: ‘/tmp/sonnets.txt’\n",
            "\n",
            "\r/tmp/sonnets.txt      0%[                    ]       0  --.-KB/s               \r/tmp/sonnets.txt    100%[===================>]  91.38K  --.-KB/s    in 0.001s  \n",
            "\n",
            "2020-11-09 18:10:39 (103 MB/s) - ‘/tmp/sonnets.txt’ saved [93578/93578]\n",
            "\n"
          ],
          "name": "stdout"
        }
      ]
    },
    {
      "cell_type": "code",
      "metadata": {
        "id": "w9vH8Y59ajYL",
        "outputId": "ce59ab6e-9a2f-4012-baae-635eab67c4c5",
        "colab": {
          "base_uri": "https://localhost:8080/"
        }
      },
      "source": [
        "model = Sequential()\n",
        "model.add(Embedding(total_words, 100, input_length=max_sequence_len-1))\n",
        "model.add(Bidirectional(LSTM(150, return_sequences = True)))\n",
        "model.add(Dropout(0.2))\n",
        "model.add(LSTM(100))\n",
        "model.add(Dense(total_words/2, activation='relu', kernel_regularizer=regularizers.l2(0.01)))\n",
        "model.add(Dense(total_words, activation='softmax'))\n",
        "model.compile(loss='categorical_crossentropy', optimizer='adam', metrics=['accuracy'])\n",
        "print(model.summary())\n"
      ],
      "execution_count": 5,
      "outputs": [
        {
          "output_type": "stream",
          "text": [
            "Model: \"sequential\"\n",
            "_________________________________________________________________\n",
            "Layer (type)                 Output Shape              Param #   \n",
            "=================================================================\n",
            "embedding (Embedding)        (None, 10, 100)           321100    \n",
            "_________________________________________________________________\n",
            "bidirectional (Bidirectional (None, 10, 300)           301200    \n",
            "_________________________________________________________________\n",
            "dropout (Dropout)            (None, 10, 300)           0         \n",
            "_________________________________________________________________\n",
            "lstm_1 (LSTM)                (None, 100)               160400    \n",
            "_________________________________________________________________\n",
            "dense (Dense)                (None, 1605)              162105    \n",
            "_________________________________________________________________\n",
            "dense_1 (Dense)              (None, 3211)              5156866   \n",
            "=================================================================\n",
            "Total params: 6,101,671\n",
            "Trainable params: 6,101,671\n",
            "Non-trainable params: 0\n",
            "_________________________________________________________________\n",
            "None\n"
          ],
          "name": "stdout"
        }
      ]
    },
    {
      "cell_type": "code",
      "metadata": {
        "id": "AIg2f1HBxqof",
        "outputId": "fe1fe945-5c37-4b02-9243-2a51e03ab33d",
        "colab": {
          "base_uri": "https://localhost:8080/"
        }
      },
      "source": [
        " history = model.fit(predictors, label, epochs=100, verbose=1)"
      ],
      "execution_count": 6,
      "outputs": [
        {
          "output_type": "stream",
          "text": [
            "Epoch 1/100\n",
            "484/484 [==============================] - 6s 12ms/step - loss: 6.9109 - accuracy: 0.0211\n",
            "Epoch 2/100\n",
            "484/484 [==============================] - 6s 12ms/step - loss: 6.5010 - accuracy: 0.0219\n",
            "Epoch 3/100\n",
            "484/484 [==============================] - 6s 12ms/step - loss: 6.4080 - accuracy: 0.0249\n",
            "Epoch 4/100\n",
            "484/484 [==============================] - 6s 12ms/step - loss: 6.2945 - accuracy: 0.0298\n",
            "Epoch 5/100\n",
            "484/484 [==============================] - 6s 12ms/step - loss: 6.1937 - accuracy: 0.0363\n",
            "Epoch 6/100\n",
            "484/484 [==============================] - 6s 12ms/step - loss: 6.1097 - accuracy: 0.0386\n",
            "Epoch 7/100\n",
            "484/484 [==============================] - 6s 12ms/step - loss: 6.0280 - accuracy: 0.0409\n",
            "Epoch 8/100\n",
            "484/484 [==============================] - 6s 12ms/step - loss: 5.9334 - accuracy: 0.0488\n",
            "Epoch 9/100\n",
            "484/484 [==============================] - 6s 12ms/step - loss: 5.8264 - accuracy: 0.0526\n",
            "Epoch 10/100\n",
            "484/484 [==============================] - 6s 12ms/step - loss: 5.7245 - accuracy: 0.0598\n",
            "Epoch 11/100\n",
            "484/484 [==============================] - 6s 12ms/step - loss: 5.6236 - accuracy: 0.0647\n",
            "Epoch 12/100\n",
            "484/484 [==============================] - 6s 12ms/step - loss: 5.5229 - accuracy: 0.0696\n",
            "Epoch 13/100\n",
            "484/484 [==============================] - 6s 12ms/step - loss: 5.4256 - accuracy: 0.0760\n",
            "Epoch 14/100\n",
            "484/484 [==============================] - 6s 12ms/step - loss: 5.3219 - accuracy: 0.0800\n",
            "Epoch 15/100\n",
            "484/484 [==============================] - 6s 12ms/step - loss: 5.2236 - accuracy: 0.0845\n",
            "Epoch 16/100\n",
            "484/484 [==============================] - 6s 12ms/step - loss: 5.1140 - accuracy: 0.0949\n",
            "Epoch 17/100\n",
            "484/484 [==============================] - 6s 12ms/step - loss: 5.0121 - accuracy: 0.1030\n",
            "Epoch 18/100\n",
            "484/484 [==============================] - 6s 12ms/step - loss: 4.9067 - accuracy: 0.1125\n",
            "Epoch 19/100\n",
            "484/484 [==============================] - 6s 12ms/step - loss: 4.8034 - accuracy: 0.1202\n",
            "Epoch 20/100\n",
            "484/484 [==============================] - 6s 12ms/step - loss: 4.6992 - accuracy: 0.1306\n",
            "Epoch 21/100\n",
            "484/484 [==============================] - 6s 12ms/step - loss: 4.5884 - accuracy: 0.1416\n",
            "Epoch 22/100\n",
            "484/484 [==============================] - 6s 12ms/step - loss: 4.4871 - accuracy: 0.1533\n",
            "Epoch 23/100\n",
            "484/484 [==============================] - 6s 12ms/step - loss: 4.3819 - accuracy: 0.1614\n",
            "Epoch 24/100\n",
            "484/484 [==============================] - 6s 12ms/step - loss: 4.2788 - accuracy: 0.1757\n",
            "Epoch 25/100\n",
            "484/484 [==============================] - 6s 12ms/step - loss: 4.1773 - accuracy: 0.1857\n",
            "Epoch 26/100\n",
            "484/484 [==============================] - 6s 12ms/step - loss: 4.0662 - accuracy: 0.1998\n",
            "Epoch 27/100\n",
            "484/484 [==============================] - 6s 12ms/step - loss: 3.9692 - accuracy: 0.2165\n",
            "Epoch 28/100\n",
            "484/484 [==============================] - 6s 12ms/step - loss: 3.8785 - accuracy: 0.2288\n",
            "Epoch 29/100\n",
            "484/484 [==============================] - 6s 12ms/step - loss: 3.7784 - accuracy: 0.2464\n",
            "Epoch 30/100\n",
            "484/484 [==============================] - 6s 12ms/step - loss: 3.6827 - accuracy: 0.2635\n",
            "Epoch 31/100\n",
            "484/484 [==============================] - 6s 12ms/step - loss: 3.5869 - accuracy: 0.2833\n",
            "Epoch 32/100\n",
            "484/484 [==============================] - 6s 12ms/step - loss: 3.4988 - accuracy: 0.3001\n",
            "Epoch 33/100\n",
            "484/484 [==============================] - 6s 12ms/step - loss: 3.4142 - accuracy: 0.3225\n",
            "Epoch 34/100\n",
            "484/484 [==============================] - 6s 12ms/step - loss: 3.3236 - accuracy: 0.3408\n",
            "Epoch 35/100\n",
            "484/484 [==============================] - 6s 12ms/step - loss: 3.2400 - accuracy: 0.3561\n",
            "Epoch 36/100\n",
            "484/484 [==============================] - 6s 12ms/step - loss: 3.1588 - accuracy: 0.3758\n",
            "Epoch 37/100\n",
            "484/484 [==============================] - 6s 12ms/step - loss: 3.0816 - accuracy: 0.3999\n",
            "Epoch 38/100\n",
            "484/484 [==============================] - 6s 12ms/step - loss: 3.0058 - accuracy: 0.4111\n",
            "Epoch 39/100\n",
            "484/484 [==============================] - 6s 12ms/step - loss: 2.9213 - accuracy: 0.4324\n",
            "Epoch 40/100\n",
            "484/484 [==============================] - 6s 12ms/step - loss: 2.8574 - accuracy: 0.4489\n",
            "Epoch 41/100\n",
            "484/484 [==============================] - 6s 12ms/step - loss: 2.7952 - accuracy: 0.4593\n",
            "Epoch 42/100\n",
            "484/484 [==============================] - 6s 12ms/step - loss: 2.7182 - accuracy: 0.4832\n",
            "Epoch 43/100\n",
            "484/484 [==============================] - 6s 12ms/step - loss: 2.6579 - accuracy: 0.4955\n",
            "Epoch 44/100\n",
            "484/484 [==============================] - 6s 12ms/step - loss: 2.5963 - accuracy: 0.5087\n",
            "Epoch 45/100\n",
            "484/484 [==============================] - 6s 12ms/step - loss: 2.5401 - accuracy: 0.5245\n",
            "Epoch 46/100\n",
            "484/484 [==============================] - 6s 12ms/step - loss: 2.4928 - accuracy: 0.5362\n",
            "Epoch 47/100\n",
            "484/484 [==============================] - 6s 12ms/step - loss: 2.4280 - accuracy: 0.5476\n",
            "Epoch 48/100\n",
            "484/484 [==============================] - 6s 12ms/step - loss: 2.3768 - accuracy: 0.5579\n",
            "Epoch 49/100\n",
            "484/484 [==============================] - 6s 12ms/step - loss: 2.3232 - accuracy: 0.5713\n",
            "Epoch 50/100\n",
            "484/484 [==============================] - 6s 12ms/step - loss: 2.2897 - accuracy: 0.5792\n",
            "Epoch 51/100\n",
            "484/484 [==============================] - 6s 12ms/step - loss: 2.2405 - accuracy: 0.5904\n",
            "Epoch 52/100\n",
            "484/484 [==============================] - 6s 13ms/step - loss: 2.1798 - accuracy: 0.6023\n",
            "Epoch 53/100\n",
            "484/484 [==============================] - 6s 13ms/step - loss: 2.1450 - accuracy: 0.6107\n",
            "Epoch 54/100\n",
            "484/484 [==============================] - 6s 12ms/step - loss: 2.1073 - accuracy: 0.6149\n",
            "Epoch 55/100\n",
            "484/484 [==============================] - 6s 12ms/step - loss: 2.0661 - accuracy: 0.6278\n",
            "Epoch 56/100\n",
            "484/484 [==============================] - 6s 12ms/step - loss: 2.0257 - accuracy: 0.6362\n",
            "Epoch 57/100\n",
            "484/484 [==============================] - 6s 12ms/step - loss: 1.9662 - accuracy: 0.6491\n",
            "Epoch 58/100\n",
            "484/484 [==============================] - 6s 12ms/step - loss: 1.9423 - accuracy: 0.6559\n",
            "Epoch 59/100\n",
            "484/484 [==============================] - 6s 12ms/step - loss: 1.9148 - accuracy: 0.6601\n",
            "Epoch 60/100\n",
            "484/484 [==============================] - 6s 12ms/step - loss: 1.8822 - accuracy: 0.6646\n",
            "Epoch 61/100\n",
            "484/484 [==============================] - 6s 12ms/step - loss: 1.8499 - accuracy: 0.6688\n",
            "Epoch 62/100\n",
            "484/484 [==============================] - 6s 12ms/step - loss: 1.8095 - accuracy: 0.6819\n",
            "Epoch 63/100\n",
            "484/484 [==============================] - 6s 12ms/step - loss: 1.7640 - accuracy: 0.6952\n",
            "Epoch 64/100\n",
            "484/484 [==============================] - 6s 12ms/step - loss: 1.7435 - accuracy: 0.6971\n",
            "Epoch 65/100\n",
            "484/484 [==============================] - 6s 12ms/step - loss: 1.7181 - accuracy: 0.7011\n",
            "Epoch 66/100\n",
            "484/484 [==============================] - 6s 12ms/step - loss: 1.6975 - accuracy: 0.7002\n",
            "Epoch 67/100\n",
            "484/484 [==============================] - 6s 12ms/step - loss: 1.6652 - accuracy: 0.7103\n",
            "Epoch 68/100\n",
            "484/484 [==============================] - 6s 12ms/step - loss: 1.6387 - accuracy: 0.7161\n",
            "Epoch 69/100\n",
            "484/484 [==============================] - 6s 12ms/step - loss: 1.6052 - accuracy: 0.7232\n",
            "Epoch 70/100\n",
            "484/484 [==============================] - 6s 12ms/step - loss: 1.5846 - accuracy: 0.7259\n",
            "Epoch 71/100\n",
            "484/484 [==============================] - 6s 12ms/step - loss: 1.5687 - accuracy: 0.7333\n",
            "Epoch 72/100\n",
            "484/484 [==============================] - 6s 12ms/step - loss: 1.5492 - accuracy: 0.7335\n",
            "Epoch 73/100\n",
            "484/484 [==============================] - 6s 12ms/step - loss: 1.5199 - accuracy: 0.7399\n",
            "Epoch 74/100\n",
            "484/484 [==============================] - 6s 12ms/step - loss: 1.4952 - accuracy: 0.7427\n",
            "Epoch 75/100\n",
            "484/484 [==============================] - 6s 12ms/step - loss: 1.4806 - accuracy: 0.7449\n",
            "Epoch 76/100\n",
            "484/484 [==============================] - 6s 12ms/step - loss: 1.4623 - accuracy: 0.7506\n",
            "Epoch 77/100\n",
            "484/484 [==============================] - 6s 12ms/step - loss: 1.4410 - accuracy: 0.7572\n",
            "Epoch 78/100\n",
            "484/484 [==============================] - 6s 12ms/step - loss: 1.4141 - accuracy: 0.7581\n",
            "Epoch 79/100\n",
            "484/484 [==============================] - 6s 12ms/step - loss: 1.3845 - accuracy: 0.7651\n",
            "Epoch 80/100\n",
            "484/484 [==============================] - 6s 12ms/step - loss: 1.3839 - accuracy: 0.7660\n",
            "Epoch 81/100\n",
            "484/484 [==============================] - 6s 12ms/step - loss: 1.3682 - accuracy: 0.7654\n",
            "Epoch 82/100\n",
            "484/484 [==============================] - 6s 12ms/step - loss: 1.3571 - accuracy: 0.7649\n",
            "Epoch 83/100\n",
            "484/484 [==============================] - 6s 12ms/step - loss: 1.3292 - accuracy: 0.7753\n",
            "Epoch 84/100\n",
            "484/484 [==============================] - 6s 12ms/step - loss: 1.3323 - accuracy: 0.7720\n",
            "Epoch 85/100\n",
            "484/484 [==============================] - 6s 12ms/step - loss: 1.2982 - accuracy: 0.7797\n",
            "Epoch 86/100\n",
            "484/484 [==============================] - 6s 12ms/step - loss: 1.2976 - accuracy: 0.7787\n",
            "Epoch 87/100\n",
            "484/484 [==============================] - 6s 12ms/step - loss: 1.2761 - accuracy: 0.7820\n",
            "Epoch 88/100\n",
            "484/484 [==============================] - 6s 12ms/step - loss: 1.2696 - accuracy: 0.7820\n",
            "Epoch 89/100\n",
            "484/484 [==============================] - 6s 12ms/step - loss: 1.2555 - accuracy: 0.7849\n",
            "Epoch 90/100\n",
            "484/484 [==============================] - 6s 12ms/step - loss: 1.2349 - accuracy: 0.7896\n",
            "Epoch 91/100\n",
            "484/484 [==============================] - 6s 12ms/step - loss: 1.2385 - accuracy: 0.7873\n",
            "Epoch 92/100\n",
            "484/484 [==============================] - 6s 12ms/step - loss: 1.2254 - accuracy: 0.7879\n",
            "Epoch 93/100\n",
            "484/484 [==============================] - 6s 12ms/step - loss: 1.1974 - accuracy: 0.7979\n",
            "Epoch 94/100\n",
            "484/484 [==============================] - 6s 12ms/step - loss: 1.1900 - accuracy: 0.7962\n",
            "Epoch 95/100\n",
            "484/484 [==============================] - 6s 12ms/step - loss: 1.1896 - accuracy: 0.7950\n",
            "Epoch 96/100\n",
            "484/484 [==============================] - 6s 12ms/step - loss: 1.1811 - accuracy: 0.7970\n",
            "Epoch 97/100\n",
            "484/484 [==============================] - 6s 12ms/step - loss: 1.1740 - accuracy: 0.7974\n",
            "Epoch 98/100\n",
            "484/484 [==============================] - 6s 12ms/step - loss: 1.1515 - accuracy: 0.8009\n",
            "Epoch 99/100\n",
            "484/484 [==============================] - 6s 12ms/step - loss: 1.1300 - accuracy: 0.8085\n",
            "Epoch 100/100\n",
            "484/484 [==============================] - 6s 12ms/step - loss: 1.1314 - accuracy: 0.8036\n"
          ],
          "name": "stdout"
        }
      ]
    },
    {
      "cell_type": "code",
      "metadata": {
        "id": "1fXTEO3GJ282",
        "outputId": "f91d4905-bb9f-402b-c1d5-7020f0ca62b3",
        "colab": {
          "base_uri": "https://localhost:8080/",
          "height": 545
        }
      },
      "source": [
        "import matplotlib.pyplot as plt\n",
        "acc = history.history['accuracy']\n",
        "loss = history.history['loss']\n",
        "\n",
        "epochs = range(len(acc))\n",
        "\n",
        "plt.plot(epochs, acc, 'b', label='Training accuracy')\n",
        "plt.title('Training accuracy')\n",
        "\n",
        "plt.figure()\n",
        "\n",
        "plt.plot(epochs, loss, 'b', label='Training Loss')\n",
        "plt.title('Training loss')\n",
        "plt.legend()\n",
        "\n",
        "plt.show()"
      ],
      "execution_count": 7,
      "outputs": [
        {
          "output_type": "display_data",
          "data": {
            "image/png": "[encoded data removed]",
            "text/plain": [
              "<Figure size 432x288 with 1 Axes>"
            ]
          },
          "metadata": {
            "tags": [],
            "needs_background": "light"
          }
        },
        {
          "output_type": "display_data",
          "data": {
            "image/png": "[encoded data removed]",
            "text/plain": [
              "<Figure size 432x288 with 1 Axes>"
            ]
          },
          "metadata": {
            "tags": [],
            "needs_background": "light"
          }
        }
      ]
    },
    {
      "cell_type": "code",
      "metadata": {
        "id": "6Vc6PHgxa6Hm",
        "outputId": "f550795f-1d41-4d65-bc04-10942e1333ed",
        "colab": {
          "base_uri": "https://localhost:8080/"
        }
      },
      "source": [
        "seed_text = \"Help me Obi Wan Kenobi, you're my only hope\"\n",
        "next_words = 100\n",
        "  \n",
        "for _ in range(next_words):\n",
        "\ttoken_list = tokenizer.texts_to_sequences([seed_text])[0]\n",
        "\ttoken_list = pad_sequences([token_list], maxlen=max_sequence_len-1, padding='pre')\n",
        "\tpredicted = model.predict_classes(token_list, verbose=0)\n",
        "\toutput_word = \"\"\n",
        "\tfor word, index in tokenizer.word_index.items():\n",
        "\t\tif index == predicted:\n",
        "\t\t\toutput_word = word\n",
        "\t\t\tbreak\n",
        "\tseed_text += \" \" + output_word\n",
        "print(seed_text)"
      ],
      "execution_count": 8,
      "outputs": [
        {
          "output_type": "stream",
          "text": [
            "WARNING:tensorflow:From <ipython-input-8-622d307fa19a>:7: Sequential.predict_classes (from tensorflow.python.keras.engine.sequential) is deprecated and will be removed after 2021-01-01.\n",
            "Instructions for updating:\n",
            "Please use instead:* `np.argmax(model.predict(x), axis=-1)`,   if your model does multi-class classification   (e.g. if it uses a `softmax` last-layer activation).* `(model.predict(x) > 0.5).astype(\"int32\")`,   if your model does binary classification   (e.g. if it uses a `sigmoid` last-layer activation).\n",
            "Help me Obi Wan Kenobi, you're my only hope upon myself and friend ' of me prove thee to catch gone deep and none dear friend torn ' lies go days saith see rhyme rare free free free prove ill made new men used prove well date debt torn new heir report shade torn shown die thence none strive me behold of praise rare ' lies told it was alone are you is renew'd stol'n to your outward face shall lie to each prove true foes commend ' ' behold to catch thee bad in hue thine eye before thee done say they have 'will ' on my grief\n"
          ],
          "name": "stdout"
        }
      ]
    }
  ]
}